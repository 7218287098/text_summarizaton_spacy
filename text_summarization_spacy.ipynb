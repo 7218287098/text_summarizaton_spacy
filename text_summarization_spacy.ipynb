{
  "nbformat": 4,
  "nbformat_minor": 0,
  "metadata": {
    "colab": {
      "provenance": [],
      "gpuType": "T4"
    },
    "kernelspec": {
      "name": "python3",
      "display_name": "Python 3"
    },
    "language_info": {
      "name": "python"
    },
    "accelerator": "GPU"
  },
  "cells": [
    {
      "cell_type": "code",
      "source": [
        "text = \"\"\"The Statue of Unity stands tall and proud, a majestic structure that embodies the essence of unity and strength. Located in the Indian state of Gujarat, it is a tribute to one of India's most revered leaders, Sardar Vallabhbhai Patel. The colossal statue, measuring 182 meters (597 feet) in height, surpasses all other statues worldwide, leaving visitors awestruck with its grandeur.\n",
        "\n",
        "The statue serves as a symbol of India's unity, resilience, and the indomitable spirit of its people. It was unveiled on October 31, 2018, coinciding with Sardar Patel's birth anniversary. Patel, fondly known as the \"Iron Man of India,\" played a pivotal role in India's struggle for independence and was instrumental in uniting more than 560 princely states to form a unified India.\n",
        "\n",
        "The creation of the Statue of Unity was a remarkable engineering feat, combining state-of-the-art technology and innovative design. Built on Sadhu Island in the Narmada River, it offers a breathtaking view of the picturesque surroundings. The bronze-clad statue is an amalgamation of traditional and modern elements, reflecting India's rich heritage and progressive outlook.\n",
        "\n",
        "Visitors are greeted by an impressive museum at the base of the statue, showcasing Sardar Patel's life, achievements, and the historical events that shaped India's destiny. An observation deck located at an astounding height offers a mesmerizing panorama of the lush landscape, encouraging tourists from all over the world to witness the beauty of India's diverse topography.\n",
        "\n",
        "The Statue of Unity has become a beacon of tourism, drawing millions of visitors annually. It has not only put the state of Gujarat on the global map but also acts as a unifying force, instilling a sense of pride and patriotism among Indians. The monument has also contributed significantly to the socio-economic development of the region, generating employment opportunities and boosting the local economy.\n",
        "\n",
        "Beyond being a mere tourist attraction, the Statue of Unity has become a symbol of national integration, exemplifying the spirit of \"Ek Bharat, Shreshtha Bharat\" (One India, Best India). It serves as a reminder of Sardar Patel's vision of a united, prosperous, and inclusive India.\n",
        "\n",
        "In conclusion, the Statue of Unity stands tall as an epitome of unity, strength, and pride. It honors the legacy of Sardar Vallabhbhai Patel, a visionary leader whose efforts shaped the modern-day India. As a testament to the country's rich heritage and its commitment to progress, the monument will continue to inspire generations to come, fostering a sense of unity and patriotism in the hearts of all who behold its magnificence.\n",
        "\"\"\""
      ],
      "metadata": {
        "id": "QVm9UqUtZcDS"
      },
      "execution_count": 9,
      "outputs": []
    },
    {
      "cell_type": "code",
      "source": [
        "\n",
        "import spacy\n",
        "from string import punctuation\n",
        "from spacy.lang.en.stop_words import STOP_WORDS"
      ],
      "metadata": {
        "id": "jgxL9jNqTkxN"
      },
      "execution_count": 10,
      "outputs": []
    },
    {
      "cell_type": "code",
      "source": [
        "nlp = spacy.load('en_core_web_sm')\n",
        "stopwords = list(STOP_WORDS)"
      ],
      "metadata": {
        "id": "ITVe__moZ7jS"
      },
      "execution_count": 11,
      "outputs": []
    },
    {
      "cell_type": "code",
      "source": [
        "#spacy object generation\n",
        "\n",
        "doc = nlp(text)"
      ],
      "metadata": {
        "id": "mAAuWlh9c5JN"
      },
      "execution_count": null,
      "outputs": []
    },
    {
      "cell_type": "code",
      "source": [
        "tokens = [token.text for token in doc]\n",
        "tokens"
      ],
      "metadata": {
        "id": "SWFgGqMsdBRF"
      },
      "execution_count": null,
      "outputs": []
    },
    {
      "cell_type": "code",
      "source": [
        "\n",
        "type(doc)"
      ],
      "metadata": {
        "colab": {
          "base_uri": "https://localhost:8080/"
        },
        "id": "1iRumc20kZzq",
        "outputId": "6d147126-6c1f-4269-a410-a5d4cb466785"
      },
      "execution_count": null,
      "outputs": [
        {
          "output_type": "execute_result",
          "data": {
            "text/plain": [
              "spacy.tokens.doc.Doc"
            ]
          },
          "metadata": {},
          "execution_count": 6
        }
      ]
    },
    {
      "cell_type": "code",
      "source": [
        "\n",
        "#Dictionary of word and their frequencies\n",
        "#statue:5\n",
        "#unity:10\n",
        "word_freq = {}\n",
        "import re\n",
        "\n",
        "for word in doc:\n",
        "\n",
        "  if word.text.lower() not in stopwords and word.text.lower() not in punctuation:\n",
        "    if word.text not in word_freq.keys():\n",
        "      word_freq[word.text]=1\n",
        "    else:\n",
        "      word_freq[word.text]+=1\n",
        "\n",
        "del word_freq['\\n\\n']"
      ],
      "metadata": {
        "id": "zawwRSidduhD"
      },
      "execution_count": null,
      "outputs": []
    },
    {
      "cell_type": "code",
      "source": [
        "del word_freq['\\n']"
      ],
      "metadata": {
        "id": "DPF22F-tlOjM"
      },
      "execution_count": null,
      "outputs": []
    },
    {
      "cell_type": "code",
      "source": [
        "word_freq"
      ],
      "metadata": {
        "id": "jNbniZ7ehq0o"
      },
      "execution_count": null,
      "outputs": []
    },
    {
      "cell_type": "code",
      "source": [
        "max_freq = max(word_freq.values())\n",
        "max_freq"
      ],
      "metadata": {
        "colab": {
          "base_uri": "https://localhost:8080/"
        },
        "id": "2Vafo4iYlKM1",
        "outputId": "13d36285-4540-417e-ea94-3154e0b38aa5"
      },
      "execution_count": null,
      "outputs": [
        {
          "output_type": "execute_result",
          "data": {
            "text/plain": [
              "12"
            ]
          },
          "metadata": {},
          "execution_count": 10
        }
      ]
    },
    {
      "cell_type": "code",
      "source": [
        "for word in word_freq.keys():\n",
        "  word_freq[word] = word_freq[word]/max_freq\n",
        "\n",
        "print(word_freq)"
      ],
      "metadata": {
        "colab": {
          "base_uri": "https://localhost:8080/"
        },
        "id": "BakPIjAfnpj1",
        "outputId": "fa7adbf4-ebe9-485c-8e30-ab4e706e6ddb"
      },
      "execution_count": null,
      "outputs": [
        {
          "output_type": "stream",
          "name": "stdout",
          "text": [
            "{'Statue': 0.4166666666666667, 'Unity': 0.4166666666666667, 'stands': 0.16666666666666666, 'tall': 0.16666666666666666, 'proud': 0.08333333333333333, 'majestic': 0.08333333333333333, 'structure': 0.08333333333333333, 'embodies': 0.08333333333333333, 'essence': 0.08333333333333333, 'unity': 0.3333333333333333, 'strength': 0.16666666666666666, 'Located': 0.08333333333333333, 'Indian': 0.08333333333333333, 'state': 0.25, 'Gujarat': 0.16666666666666666, 'tribute': 0.08333333333333333, 'India': 1.0, 'revered': 0.08333333333333333, 'leaders': 0.08333333333333333, 'Sardar': 0.4166666666666667, 'Vallabhbhai': 0.16666666666666666, 'Patel': 0.5, 'colossal': 0.08333333333333333, 'statue': 0.3333333333333333, 'measuring': 0.08333333333333333, '182': 0.08333333333333333, 'meters': 0.08333333333333333, '597': 0.08333333333333333, 'feet': 0.08333333333333333, 'height': 0.16666666666666666, 'surpasses': 0.08333333333333333, 'statues': 0.08333333333333333, 'worldwide': 0.08333333333333333, 'leaving': 0.08333333333333333, 'visitors': 0.16666666666666666, 'awestruck': 0.08333333333333333, 'grandeur': 0.08333333333333333, 'serves': 0.16666666666666666, 'symbol': 0.16666666666666666, 'resilience': 0.08333333333333333, 'indomitable': 0.08333333333333333, 'spirit': 0.16666666666666666, 'people': 0.08333333333333333, 'unveiled': 0.08333333333333333, 'October': 0.08333333333333333, '31': 0.08333333333333333, '2018': 0.08333333333333333, 'coinciding': 0.08333333333333333, 'birth': 0.08333333333333333, 'anniversary': 0.08333333333333333, 'fondly': 0.08333333333333333, 'known': 0.08333333333333333, 'Iron': 0.08333333333333333, 'Man': 0.08333333333333333, 'played': 0.08333333333333333, 'pivotal': 0.08333333333333333, 'role': 0.08333333333333333, 'struggle': 0.08333333333333333, 'independence': 0.08333333333333333, 'instrumental': 0.08333333333333333, 'uniting': 0.08333333333333333, '560': 0.08333333333333333, 'princely': 0.08333333333333333, 'states': 0.08333333333333333, 'form': 0.08333333333333333, 'unified': 0.08333333333333333, 'creation': 0.08333333333333333, 'remarkable': 0.08333333333333333, 'engineering': 0.08333333333333333, 'feat': 0.08333333333333333, 'combining': 0.08333333333333333, 'art': 0.08333333333333333, 'technology': 0.08333333333333333, 'innovative': 0.08333333333333333, 'design': 0.08333333333333333, 'Built': 0.08333333333333333, 'Sadhu': 0.08333333333333333, 'Island': 0.08333333333333333, 'Narmada': 0.08333333333333333, 'River': 0.08333333333333333, 'offers': 0.16666666666666666, 'breathtaking': 0.08333333333333333, 'view': 0.08333333333333333, 'picturesque': 0.08333333333333333, 'surroundings': 0.08333333333333333, 'bronze': 0.08333333333333333, 'clad': 0.08333333333333333, 'amalgamation': 0.08333333333333333, 'traditional': 0.08333333333333333, 'modern': 0.16666666666666666, 'elements': 0.08333333333333333, 'reflecting': 0.08333333333333333, 'rich': 0.16666666666666666, 'heritage': 0.16666666666666666, 'progressive': 0.08333333333333333, 'outlook': 0.08333333333333333, 'Visitors': 0.08333333333333333, 'greeted': 0.08333333333333333, 'impressive': 0.08333333333333333, 'museum': 0.08333333333333333, 'base': 0.08333333333333333, 'showcasing': 0.08333333333333333, 'life': 0.08333333333333333, 'achievements': 0.08333333333333333, 'historical': 0.08333333333333333, 'events': 0.08333333333333333, 'shaped': 0.16666666666666666, 'destiny': 0.08333333333333333, 'observation': 0.08333333333333333, 'deck': 0.08333333333333333, 'located': 0.08333333333333333, 'astounding': 0.08333333333333333, 'mesmerizing': 0.08333333333333333, 'panorama': 0.08333333333333333, 'lush': 0.08333333333333333, 'landscape': 0.08333333333333333, 'encouraging': 0.08333333333333333, 'tourists': 0.08333333333333333, 'world': 0.08333333333333333, 'witness': 0.08333333333333333, 'beauty': 0.08333333333333333, 'diverse': 0.08333333333333333, 'topography': 0.08333333333333333, 'beacon': 0.08333333333333333, 'tourism': 0.08333333333333333, 'drawing': 0.08333333333333333, 'millions': 0.08333333333333333, 'annually': 0.08333333333333333, 'global': 0.08333333333333333, 'map': 0.08333333333333333, 'acts': 0.08333333333333333, 'unifying': 0.08333333333333333, 'force': 0.08333333333333333, 'instilling': 0.08333333333333333, 'sense': 0.16666666666666666, 'pride': 0.16666666666666666, 'patriotism': 0.16666666666666666, 'Indians': 0.08333333333333333, 'monument': 0.16666666666666666, 'contributed': 0.08333333333333333, 'significantly': 0.08333333333333333, 'socio': 0.08333333333333333, 'economic': 0.08333333333333333, 'development': 0.08333333333333333, 'region': 0.08333333333333333, 'generating': 0.08333333333333333, 'employment': 0.08333333333333333, 'opportunities': 0.08333333333333333, 'boosting': 0.08333333333333333, 'local': 0.08333333333333333, 'economy': 0.08333333333333333, 'mere': 0.08333333333333333, 'tourist': 0.08333333333333333, 'attraction': 0.08333333333333333, 'national': 0.08333333333333333, 'integration': 0.08333333333333333, 'exemplifying': 0.08333333333333333, 'Ek': 0.08333333333333333, 'Bharat': 0.16666666666666666, 'Shreshtha': 0.08333333333333333, 'Best': 0.08333333333333333, 'reminder': 0.08333333333333333, 'vision': 0.08333333333333333, 'united': 0.08333333333333333, 'prosperous': 0.08333333333333333, 'inclusive': 0.08333333333333333, 'conclusion': 0.08333333333333333, 'epitome': 0.08333333333333333, 'honors': 0.08333333333333333, 'legacy': 0.08333333333333333, 'visionary': 0.08333333333333333, 'leader': 0.08333333333333333, 'efforts': 0.08333333333333333, 'day': 0.08333333333333333, 'testament': 0.08333333333333333, 'country': 0.08333333333333333, 'commitment': 0.08333333333333333, 'progress': 0.08333333333333333, 'continue': 0.08333333333333333, 'inspire': 0.08333333333333333, 'generations': 0.08333333333333333, 'come': 0.08333333333333333, 'fostering': 0.08333333333333333, 'hearts': 0.08333333333333333, 'behold': 0.08333333333333333, 'magnificence': 0.08333333333333333}\n"
          ]
        }
      ]
    },
    {
      "cell_type": "code",
      "source": [
        "doc.sents"
      ],
      "metadata": {
        "colab": {
          "base_uri": "https://localhost:8080/"
        },
        "id": "I2OqOhkOoBwD",
        "outputId": "066c58c8-4358-4052-9919-8e2c1e8b3ae7"
      },
      "execution_count": null,
      "outputs": [
        {
          "output_type": "execute_result",
          "data": {
            "text/plain": [
              "<generator at 0x7997e000f1a0>"
            ]
          },
          "metadata": {},
          "execution_count": 12
        }
      ]
    },
    {
      "cell_type": "code",
      "source": [
        "sent_tokens = [sent for sent in doc.sents]"
      ],
      "metadata": {
        "id": "CAWHZHHeqvp7"
      },
      "execution_count": null,
      "outputs": []
    },
    {
      "cell_type": "code",
      "source": [
        "sent_tokens"
      ],
      "metadata": {
        "colab": {
          "base_uri": "https://localhost:8080/"
        },
        "id": "t75UQ7NIq2_n",
        "outputId": "e142bb05-ab82-4835-defb-b81a72f481eb"
      },
      "execution_count": null,
      "outputs": [
        {
          "output_type": "execute_result",
          "data": {
            "text/plain": [
              "[The Statue of Unity stands tall and proud, a majestic structure that embodies the essence of unity and strength.,\n",
              " Located in the Indian state of Gujarat, it is a tribute to one of India's most revered leaders, Sardar Vallabhbhai Patel.,\n",
              " The colossal statue, measuring 182 meters (597 feet) in height, surpasses all other statues worldwide, leaving visitors awestruck with its grandeur.\n",
              " ,\n",
              " The statue serves as a symbol of India's unity, resilience, and the indomitable spirit of its people.,\n",
              " It was unveiled on October 31, 2018, coinciding with Sardar Patel's birth anniversary.,\n",
              " Patel, fondly known as the \"Iron Man of India,\" played a pivotal role in India's struggle for independence and was instrumental in uniting more than 560 princely states to form a unified India.\n",
              " ,\n",
              " The creation of the Statue of Unity was a remarkable engineering feat, combining state-of-the-art technology and innovative design.,\n",
              " Built on Sadhu Island in the Narmada River, it offers a breathtaking view of the picturesque surroundings.,\n",
              " The bronze-clad statue is an amalgamation of traditional and modern elements, reflecting India's rich heritage and progressive outlook.\n",
              " ,\n",
              " Visitors are greeted by an impressive museum at the base of the statue, showcasing Sardar Patel's life, achievements, and the historical events that shaped India's destiny.,\n",
              " An observation deck located at an astounding height offers a mesmerizing panorama of the lush landscape, encouraging tourists from all over the world to witness the beauty of India's diverse topography.\n",
              " ,\n",
              " The Statue of Unity has become a beacon of tourism, drawing millions of visitors annually.,\n",
              " It has not only put the state of Gujarat on the global map but also acts as a unifying force, instilling a sense of pride and patriotism among Indians.,\n",
              " The monument has also contributed significantly to the socio-economic development of the region, generating employment opportunities and boosting the local economy.\n",
              " ,\n",
              " Beyond being a mere tourist attraction, the Statue of Unity has become a symbol of national integration, exemplifying the spirit of \"Ek Bharat, Shreshtha Bharat\" (One India, Best India).,\n",
              " It serves as a reminder of Sardar Patel's vision of a united, prosperous, and inclusive India.\n",
              " ,\n",
              " In conclusion, the Statue of Unity stands tall as an epitome of unity, strength, and pride.,\n",
              " It honors the legacy of Sardar Vallabhbhai Patel, a visionary leader whose efforts shaped the modern-day India.,\n",
              " As a testament to the country's rich heritage and its commitment to progress, the monument will continue to inspire generations to come, fostering a sense of unity and patriotism in the hearts of all who behold its magnificence.]"
            ]
          },
          "metadata": {},
          "execution_count": 14
        }
      ]
    },
    {
      "cell_type": "code",
      "source": [
        "sent_scores = {}\n",
        "\n",
        "for sent in sent_tokens:\n",
        "  for word in sent:\n",
        "    if word.text in word_freq.keys():\n",
        "      if sent not in sent_scores.keys():\n",
        "        sent_scores[sent]=word_freq[word.text]\n",
        "      else:\n",
        "        sent_scores[sent]+=word_freq[word.text]\n"
      ],
      "metadata": {
        "id": "x0BPd0D3q4K7"
      },
      "execution_count": null,
      "outputs": []
    },
    {
      "cell_type": "code",
      "source": [
        "sent_scores"
      ],
      "metadata": {
        "colab": {
          "base_uri": "https://localhost:8080/"
        },
        "id": "TxWkkBbjsGhp",
        "outputId": "aa1e7f25-9d49-406b-b1cf-f8c25c68d47b"
      },
      "execution_count": null,
      "outputs": [
        {
          "output_type": "execute_result",
          "data": {
            "text/plain": [
              "{The Statue of Unity stands tall and proud, a majestic structure that embodies the essence of unity and strength.: 2.083333333333333,\n",
              " Located in the Indian state of Gujarat, it is a tribute to one of India's most revered leaders, Sardar Vallabhbhai Patel.: 2.916666666666666,\n",
              " The colossal statue, measuring 182 meters (597 feet) in height, surpasses all other statues worldwide, leaving visitors awestruck with its grandeur.\n",
              " : 1.6666666666666663,\n",
              " The statue serves as a symbol of India's unity, resilience, and the indomitable spirit of its people.: 2.4166666666666665,\n",
              " It was unveiled on October 31, 2018, coinciding with Sardar Patel's birth anniversary.: 1.4999999999999998,\n",
              " Patel, fondly known as the \"Iron Man of India,\" played a pivotal role in India's struggle for independence and was instrumental in uniting more than 560 princely states to form a unified India.\n",
              " : 4.833333333333335,\n",
              " The creation of the Statue of Unity was a remarkable engineering feat, combining state-of-the-art technology and innovative design.: 1.8333333333333328,\n",
              " Built on Sadhu Island in the Narmada River, it offers a breathtaking view of the picturesque surroundings.: 0.9166666666666667,\n",
              " The bronze-clad statue is an amalgamation of traditional and modern elements, reflecting India's rich heritage and progressive outlook.\n",
              " : 2.5,\n",
              " Visitors are greeted by an impressive museum at the base of the statue, showcasing Sardar Patel's life, achievements, and the historical events that shaped India's destiny.: 3.333333333333333,\n",
              " An observation deck located at an astounding height offers a mesmerizing panorama of the lush landscape, encouraging tourists from all over the world to witness the beauty of India's diverse topography.\n",
              " : 2.583333333333333,\n",
              " The Statue of Unity has become a beacon of tourism, drawing millions of visitors annually.: 1.4166666666666665,\n",
              " It has not only put the state of Gujarat on the global map but also acts as a unifying force, instilling a sense of pride and patriotism among Indians.: 1.5000000000000002,\n",
              " The monument has also contributed significantly to the socio-economic development of the region, generating employment opportunities and boosting the local economy.\n",
              " : 1.1666666666666665,\n",
              " Beyond being a mere tourist attraction, the Statue of Unity has become a symbol of national integration, exemplifying the spirit of \"Ek Bharat, Shreshtha Bharat\" (One India, Best India).: 4.25,\n",
              " It serves as a reminder of Sardar Patel's vision of a united, prosperous, and inclusive India.\n",
              " : 2.5,\n",
              " In conclusion, the Statue of Unity stands tall as an epitome of unity, strength, and pride.: 2.0,\n",
              " It honors the legacy of Sardar Vallabhbhai Patel, a visionary leader whose efforts shaped the modern-day India.: 2.9166666666666665,\n",
              " As a testament to the country's rich heritage and its commitment to progress, the monument will continue to inspire generations to come, fostering a sense of unity and patriotism in the hearts of all who behold its magnificence.: 2.1666666666666665}"
            ]
          },
          "metadata": {},
          "execution_count": 16
        }
      ]
    },
    {
      "cell_type": "code",
      "source": [
        "# import pandas as pd\n",
        "# df = pd.DataFrame()\n",
        "# df['sentence'] = sent_scores.keys()\n",
        "# df['score'] = sent_scores.values()\n",
        "# df.sort_values(by='score', ascending = False)\n",
        "\n",
        "# df.head()"
      ],
      "metadata": {
        "colab": {
          "base_uri": "https://localhost:8080/",
          "height": 206
        },
        "id": "96uRwbi2uCl1",
        "outputId": "0466817b-b1cc-41bd-e169-fcdfcea7194a"
      },
      "execution_count": null,
      "outputs": [
        {
          "output_type": "execute_result",
          "data": {
            "text/plain": [
              "                                            sentence     score\n",
              "0  (The, Statue, of, Unity, stands, tall, and, pr...  2.083333\n",
              "1  (Located, in, the, Indian, state, of, Gujarat,...  2.916667\n",
              "2  (The, colossal, statue, ,, measuring, 182, met...  1.666667\n",
              "3  (The, statue, serves, as, a, symbol, of, India...  2.416667\n",
              "4  (It, was, unveiled, on, October, 31, ,, 2018, ...  1.500000"
            ],
            "text/html": [
              "\n",
              "\n",
              "  <div id=\"df-e8f581c0-8784-4f5a-b3b8-4429379d0ef4\">\n",
              "    <div class=\"colab-df-container\">\n",
              "      <div>\n",
              "<style scoped>\n",
              "    .dataframe tbody tr th:only-of-type {\n",
              "        vertical-align: middle;\n",
              "    }\n",
              "\n",
              "    .dataframe tbody tr th {\n",
              "        vertical-align: top;\n",
              "    }\n",
              "\n",
              "    .dataframe thead th {\n",
              "        text-align: right;\n",
              "    }\n",
              "</style>\n",
              "<table border=\"1\" class=\"dataframe\">\n",
              "  <thead>\n",
              "    <tr style=\"text-align: right;\">\n",
              "      <th></th>\n",
              "      <th>sentence</th>\n",
              "      <th>score</th>\n",
              "    </tr>\n",
              "  </thead>\n",
              "  <tbody>\n",
              "    <tr>\n",
              "      <th>0</th>\n",
              "      <td>(The, Statue, of, Unity, stands, tall, and, pr...</td>\n",
              "      <td>2.083333</td>\n",
              "    </tr>\n",
              "    <tr>\n",
              "      <th>1</th>\n",
              "      <td>(Located, in, the, Indian, state, of, Gujarat,...</td>\n",
              "      <td>2.916667</td>\n",
              "    </tr>\n",
              "    <tr>\n",
              "      <th>2</th>\n",
              "      <td>(The, colossal, statue, ,, measuring, 182, met...</td>\n",
              "      <td>1.666667</td>\n",
              "    </tr>\n",
              "    <tr>\n",
              "      <th>3</th>\n",
              "      <td>(The, statue, serves, as, a, symbol, of, India...</td>\n",
              "      <td>2.416667</td>\n",
              "    </tr>\n",
              "    <tr>\n",
              "      <th>4</th>\n",
              "      <td>(It, was, unveiled, on, October, 31, ,, 2018, ...</td>\n",
              "      <td>1.500000</td>\n",
              "    </tr>\n",
              "  </tbody>\n",
              "</table>\n",
              "</div>\n",
              "      <button class=\"colab-df-convert\" onclick=\"convertToInteractive('df-e8f581c0-8784-4f5a-b3b8-4429379d0ef4')\"\n",
              "              title=\"Convert this dataframe to an interactive table.\"\n",
              "              style=\"display:none;\">\n",
              "\n",
              "  <svg xmlns=\"http://www.w3.org/2000/svg\" height=\"24px\"viewBox=\"0 0 24 24\"\n",
              "       width=\"24px\">\n",
              "    <path d=\"M0 0h24v24H0V0z\" fill=\"none\"/>\n",
              "    <path d=\"M18.56 5.44l.94 2.06.94-2.06 2.06-.94-2.06-.94-.94-2.06-.94 2.06-2.06.94zm-11 1L8.5 8.5l.94-2.06 2.06-.94-2.06-.94L8.5 2.5l-.94 2.06-2.06.94zm10 10l.94 2.06.94-2.06 2.06-.94-2.06-.94-.94-2.06-.94 2.06-2.06.94z\"/><path d=\"M17.41 7.96l-1.37-1.37c-.4-.4-.92-.59-1.43-.59-.52 0-1.04.2-1.43.59L10.3 9.45l-7.72 7.72c-.78.78-.78 2.05 0 2.83L4 21.41c.39.39.9.59 1.41.59.51 0 1.02-.2 1.41-.59l7.78-7.78 2.81-2.81c.8-.78.8-2.07 0-2.86zM5.41 20L4 18.59l7.72-7.72 1.47 1.35L5.41 20z\"/>\n",
              "  </svg>\n",
              "      </button>\n",
              "\n",
              "\n",
              "\n",
              "    <div id=\"df-0ef1f3f9-2f37-4ed8-8799-53551c2636b5\">\n",
              "      <button class=\"colab-df-quickchart\" onclick=\"quickchart('df-0ef1f3f9-2f37-4ed8-8799-53551c2636b5')\"\n",
              "              title=\"Suggest charts.\"\n",
              "              style=\"display:none;\">\n",
              "\n",
              "<svg xmlns=\"http://www.w3.org/2000/svg\" height=\"24px\"viewBox=\"0 0 24 24\"\n",
              "     width=\"24px\">\n",
              "    <g>\n",
              "        <path d=\"M19 3H5c-1.1 0-2 .9-2 2v14c0 1.1.9 2 2 2h14c1.1 0 2-.9 2-2V5c0-1.1-.9-2-2-2zM9 17H7v-7h2v7zm4 0h-2V7h2v10zm4 0h-2v-4h2v4z\"/>\n",
              "    </g>\n",
              "</svg>\n",
              "      </button>\n",
              "    </div>\n",
              "\n",
              "<style>\n",
              "  .colab-df-quickchart {\n",
              "    background-color: #E8F0FE;\n",
              "    border: none;\n",
              "    border-radius: 50%;\n",
              "    cursor: pointer;\n",
              "    display: none;\n",
              "    fill: #1967D2;\n",
              "    height: 32px;\n",
              "    padding: 0 0 0 0;\n",
              "    width: 32px;\n",
              "  }\n",
              "\n",
              "  .colab-df-quickchart:hover {\n",
              "    background-color: #E2EBFA;\n",
              "    box-shadow: 0px 1px 2px rgba(60, 64, 67, 0.3), 0px 1px 3px 1px rgba(60, 64, 67, 0.15);\n",
              "    fill: #174EA6;\n",
              "  }\n",
              "\n",
              "  [theme=dark] .colab-df-quickchart {\n",
              "    background-color: #3B4455;\n",
              "    fill: #D2E3FC;\n",
              "  }\n",
              "\n",
              "  [theme=dark] .colab-df-quickchart:hover {\n",
              "    background-color: #434B5C;\n",
              "    box-shadow: 0px 1px 3px 1px rgba(0, 0, 0, 0.15);\n",
              "    filter: drop-shadow(0px 1px 2px rgba(0, 0, 0, 0.3));\n",
              "    fill: #FFFFFF;\n",
              "  }\n",
              "</style>\n",
              "\n",
              "    <script>\n",
              "      async function quickchart(key) {\n",
              "        const containerElement = document.querySelector('#' + key);\n",
              "        const charts = await google.colab.kernel.invokeFunction(\n",
              "            'suggestCharts', [key], {});\n",
              "      }\n",
              "    </script>\n",
              "\n",
              "      <script>\n",
              "\n",
              "function displayQuickchartButton(domScope) {\n",
              "  let quickchartButtonEl =\n",
              "    domScope.querySelector('#df-0ef1f3f9-2f37-4ed8-8799-53551c2636b5 button.colab-df-quickchart');\n",
              "  quickchartButtonEl.style.display =\n",
              "    google.colab.kernel.accessAllowed ? 'block' : 'none';\n",
              "}\n",
              "\n",
              "        displayQuickchartButton(document);\n",
              "      </script>\n",
              "      <style>\n",
              "    .colab-df-container {\n",
              "      display:flex;\n",
              "      flex-wrap:wrap;\n",
              "      gap: 12px;\n",
              "    }\n",
              "\n",
              "    .colab-df-convert {\n",
              "      background-color: #E8F0FE;\n",
              "      border: none;\n",
              "      border-radius: 50%;\n",
              "      cursor: pointer;\n",
              "      display: none;\n",
              "      fill: #1967D2;\n",
              "      height: 32px;\n",
              "      padding: 0 0 0 0;\n",
              "      width: 32px;\n",
              "    }\n",
              "\n",
              "    .colab-df-convert:hover {\n",
              "      background-color: #E2EBFA;\n",
              "      box-shadow: 0px 1px 2px rgba(60, 64, 67, 0.3), 0px 1px 3px 1px rgba(60, 64, 67, 0.15);\n",
              "      fill: #174EA6;\n",
              "    }\n",
              "\n",
              "    [theme=dark] .colab-df-convert {\n",
              "      background-color: #3B4455;\n",
              "      fill: #D2E3FC;\n",
              "    }\n",
              "\n",
              "    [theme=dark] .colab-df-convert:hover {\n",
              "      background-color: #434B5C;\n",
              "      box-shadow: 0px 1px 3px 1px rgba(0, 0, 0, 0.15);\n",
              "      filter: drop-shadow(0px 1px 2px rgba(0, 0, 0, 0.3));\n",
              "      fill: #FFFFFF;\n",
              "    }\n",
              "  </style>\n",
              "\n",
              "      <script>\n",
              "        const buttonEl =\n",
              "          document.querySelector('#df-e8f581c0-8784-4f5a-b3b8-4429379d0ef4 button.colab-df-convert');\n",
              "        buttonEl.style.display =\n",
              "          google.colab.kernel.accessAllowed ? 'block' : 'none';\n",
              "\n",
              "        async function convertToInteractive(key) {\n",
              "          const element = document.querySelector('#df-e8f581c0-8784-4f5a-b3b8-4429379d0ef4');\n",
              "          const dataTable =\n",
              "            await google.colab.kernel.invokeFunction('convertToInteractive',\n",
              "                                                     [key], {});\n",
              "          if (!dataTable) return;\n",
              "\n",
              "          const docLinkHtml = 'Like what you see? Visit the ' +\n",
              "            '<a target=\"_blank\" href=https://colab.research.google.com/notebooks/data_table.ipynb>data table notebook</a>'\n",
              "            + ' to learn more about interactive tables.';\n",
              "          element.innerHTML = '';\n",
              "          dataTable['output_type'] = 'display_data';\n",
              "          await google.colab.output.renderOutput(dataTable, element);\n",
              "          const docLink = document.createElement('div');\n",
              "          docLink.innerHTML = docLinkHtml;\n",
              "          element.appendChild(docLink);\n",
              "        }\n",
              "      </script>\n",
              "    </div>\n",
              "  </div>\n"
            ]
          },
          "metadata": {},
          "execution_count": 17
        }
      ]
    },
    {
      "cell_type": "code",
      "source": [
        "len(sent_scores.keys())"
      ],
      "metadata": {
        "colab": {
          "base_uri": "https://localhost:8080/"
        },
        "id": "btwNaWRSw578",
        "outputId": "e0e96c29-9900-4d39-f024-f56d028717b0"
      },
      "execution_count": null,
      "outputs": [
        {
          "output_type": "execute_result",
          "data": {
            "text/plain": [
              "19"
            ]
          },
          "metadata": {},
          "execution_count": 18
        }
      ]
    },
    {
      "cell_type": "code",
      "source": [
        "select_len = int(len(sent_scores.keys())*0.3)"
      ],
      "metadata": {
        "id": "3AWvugIAxj9N"
      },
      "execution_count": null,
      "outputs": []
    },
    {
      "cell_type": "code",
      "source": [
        "from heapq import nlargest"
      ],
      "metadata": {
        "id": "XzNypSWMyUAT"
      },
      "execution_count": null,
      "outputs": []
    },
    {
      "cell_type": "code",
      "source": [
        "summary = nlargest(select_len, sent_scores, key = sent_scores.get)"
      ],
      "metadata": {
        "id": "ChTpappKyUcI"
      },
      "execution_count": null,
      "outputs": []
    },
    {
      "cell_type": "code",
      "source": [
        "summary"
      ],
      "metadata": {
        "colab": {
          "base_uri": "https://localhost:8080/"
        },
        "id": "rR3Fcx5DyUt5",
        "outputId": "85e31db1-5bf6-429a-d86f-699db78256ff"
      },
      "execution_count": null,
      "outputs": [
        {
          "output_type": "execute_result",
          "data": {
            "text/plain": [
              "[Patel, fondly known as the \"Iron Man of India,\" played a pivotal role in India's struggle for independence and was instrumental in uniting more than 560 princely states to form a unified India.\n",
              " ,\n",
              " Beyond being a mere tourist attraction, the Statue of Unity has become a symbol of national integration, exemplifying the spirit of \"Ek Bharat, Shreshtha Bharat\" (One India, Best India).,\n",
              " Visitors are greeted by an impressive museum at the base of the statue, showcasing Sardar Patel's life, achievements, and the historical events that shaped India's destiny.,\n",
              " It honors the legacy of Sardar Vallabhbhai Patel, a visionary leader whose efforts shaped the modern-day India.,\n",
              " Located in the Indian state of Gujarat, it is a tribute to one of India's most revered leaders, Sardar Vallabhbhai Patel.]"
            ]
          },
          "metadata": {},
          "execution_count": 24
        }
      ]
    },
    {
      "cell_type": "code",
      "source": [
        "final_summary = [word.text for word in summary]\n",
        "final_summary"
      ],
      "metadata": {
        "colab": {
          "base_uri": "https://localhost:8080/"
        },
        "id": "TkHjLilVyU03",
        "outputId": "a2b834de-3808-4c6c-d236-9497843e42cc"
      },
      "execution_count": null,
      "outputs": [
        {
          "output_type": "execute_result",
          "data": {
            "text/plain": [
              "['Patel, fondly known as the \"Iron Man of India,\" played a pivotal role in India\\'s struggle for independence and was instrumental in uniting more than 560 princely states to form a unified India.\\n\\n',\n",
              " 'Beyond being a mere tourist attraction, the Statue of Unity has become a symbol of national integration, exemplifying the spirit of \"Ek Bharat, Shreshtha Bharat\" (One India, Best India).',\n",
              " \"Visitors are greeted by an impressive museum at the base of the statue, showcasing Sardar Patel's life, achievements, and the historical events that shaped India's destiny.\",\n",
              " 'It honors the legacy of Sardar Vallabhbhai Patel, a visionary leader whose efforts shaped the modern-day India.',\n",
              " \"Located in the Indian state of Gujarat, it is a tribute to one of India's most revered leaders, Sardar Vallabhbhai Patel.\"]"
            ]
          },
          "metadata": {},
          "execution_count": 26
        }
      ]
    },
    {
      "cell_type": "code",
      "source": [
        "final_summary = \" \".join(final_summary)\n",
        "print(final_summary)"
      ],
      "metadata": {
        "colab": {
          "base_uri": "https://localhost:8080/"
        },
        "id": "8a0cy3vKzps5",
        "outputId": "afefd22b-6f8b-4cb9-fcbe-8ccbfd9929a6"
      },
      "execution_count": null,
      "outputs": [
        {
          "output_type": "stream",
          "name": "stdout",
          "text": [
            "Patel, fondly known as the \"Iron Man of India,\" played a pivotal role in India's struggle for independence and was instrumental in uniting more than 560 princely states to form a unified India.\n",
            "\n",
            " Beyond being a mere tourist attraction, the Statue of Unity has become a symbol of national integration, exemplifying the spirit of \"Ek Bharat, Shreshtha Bharat\" (One India, Best India). Visitors are greeted by an impressive museum at the base of the statue, showcasing Sardar Patel's life, achievements, and the historical events that shaped India's destiny. It honors the legacy of Sardar Vallabhbhai Patel, a visionary leader whose efforts shaped the modern-day India. Located in the Indian state of Gujarat, it is a tribute to one of India's most revered leaders, Sardar Vallabhbhai Patel.\n"
          ]
        }
      ]
    },
    {
      "cell_type": "code",
      "source": [],
      "metadata": {
        "id": "no92Wyq02tM5"
      },
      "execution_count": null,
      "outputs": []
    }
  ]
}